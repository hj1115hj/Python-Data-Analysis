{
 "cells": [
  {
   "cell_type": "markdown",
   "metadata": {},
   "source": [
    "# 12.02 LabelEncoder 예제\n"
   ]
  },
  {
   "cell_type": "code",
   "execution_count": 6,
   "metadata": {},
   "outputs": [
    {
     "name": "stdout",
     "output_type": "stream",
     "text": [
      "[1 2 0]\n",
      "['DESKTOP' 'MOBILE' 'NOTEBOOK']\n",
      "\n",
      "\n"
     ]
    }
   ],
   "source": [
    "####LabelEncoder 예제\n",
    "import numpy as np\n",
    "from sklearn.preprocessing import LabelEncoder\n",
    "\n",
    "X_train = np.array(['MOBILE', 'NOTEBOOK', 'DESKTOP'])\n",
    "X_test = np.array(['MOBILE', 'NOTEBOOK', 'TABLET'])\n",
    "\n",
    "encoder = LabelEncoder()\n",
    "encoder.fit(X_train)\n",
    "x_train_encoded = encoder.transform(X_train)\n",
    "print(x_train_encoded)\n",
    "print(encoder.classes_)\n",
    "print('\\n')\n",
    "\n"
   ]
  },
  {
   "cell_type": "code",
   "execution_count": 9,
   "metadata": {},
   "outputs": [
    {
     "name": "stdout",
     "output_type": "stream",
     "text": [
      "[1 2 3]\n",
      "['DESKTOP' 'MOBILE' 'NOTEBOOK' 'TABLET']\n",
      "\n",
      "\n"
     ]
    }
   ],
   "source": [
    "for label in np.unique(X_test):\n",
    "    if label not in encoder.classes_:\n",
    "        encoder.classes_ = np.append(encoder.classes_, label)\n",
    "\n",
    "x_test_encoded  = encoder.transform(X_test)\n",
    "print(x_test_encoded)\n",
    "print(encoder.classes_)\n",
    "\n",
    "print('\\n')"
   ]
  },
  {
   "cell_type": "code",
   "execution_count": 11,
   "metadata": {},
   "outputs": [
    {
     "name": "stdout",
     "output_type": "stream",
     "text": [
      "['NOTEBOOK' 'MOBILE' 'DESKTOP' 'TABLET']\n",
      "\n",
      "\n"
     ]
    }
   ],
   "source": [
    "result = encoder.inverse_transform([2,1,0,3])\n",
    "print(result)\n",
    "print('\\n')"
   ]
  },
  {
   "cell_type": "code",
   "execution_count": null,
   "metadata": {},
   "outputs": [],
   "source": []
  },
  {
   "cell_type": "code",
   "execution_count": null,
   "metadata": {},
   "outputs": [],
   "source": []
  },
  {
   "cell_type": "code",
   "execution_count": null,
   "metadata": {},
   "outputs": [],
   "source": []
  },
  {
   "cell_type": "code",
   "execution_count": null,
   "metadata": {},
   "outputs": [],
   "source": []
  },
  {
   "cell_type": "code",
   "execution_count": null,
   "metadata": {},
   "outputs": [],
   "source": []
  }
 ],
 "metadata": {
  "kernelspec": {
   "display_name": "Python 3",
   "language": "python",
   "name": "python3"
  },
  "language_info": {
   "codemirror_mode": {
    "name": "ipython",
    "version": 3
   },
   "file_extension": ".py",
   "mimetype": "text/x-python",
   "name": "python",
   "nbconvert_exporter": "python",
   "pygments_lexer": "ipython3",
   "version": "3.7.4"
  }
 },
 "nbformat": 4,
 "nbformat_minor": 2
}
